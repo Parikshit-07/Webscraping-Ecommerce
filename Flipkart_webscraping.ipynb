{
 "cells": [
  {
   "cell_type": "code",
   "execution_count": 3,
   "metadata": {},
   "outputs": [],
   "source": [
    "import requests\n",
    "from bs4 import BeautifulSoup\n",
    "import smtplib\n",
    "\n",
    "def check_price():\n",
    "    URL = 'https://www.flipkart.com/apple-iphone-x-space-gray-64-gb/p/itmexrgv6hctyrav?pid=MOBEXRGVCMGVCGGQ&srno=s_1_1&otracker=AS_QueryStore_HistoryAutoSuggest_0_2&otracker1=AS_QueryStore_HistoryAutoSuggest_0_2&lid=LSTMOBEXRGVCMGVCGGQFLD1LA&fm=SEARCH&iid=a672f0df-9707-4cd4-b037-12d308fd0ed4.MOBEXRGVCMGVCGGQ.SEARCH&ppt=sp&ppn=sp&ssid=hsfeqfeeao0000001565720310660&qH=0b3f45b266a97d70'\n",
    "\n",
    "    headers = {\"User-Agent\":'Mozilla/5.0 (Windows NT 10.0; Win64; x64) AppleWebKit/537.36 (KHTML, like Gecko) Chrome/76.0.3809.100 Safari/537.36'}\n",
    "\n",
    "    page = requests.get(URL, headers=headers)\n",
    "\n",
    "    soup = BeautifulSoup(page.content,'html.parser')\n",
    "\n",
    "    title = soup.find('span',{\"class\" :\"_35KyD6\"}).get_text()\n",
    "    price = soup.find('div',{\"class\":\"_1vC4OE _3qQ9m1\"}).get_text()\n",
    "    con=[]\n",
    "\n",
    "    for i in range(1,len(price)):\n",
    "        if price[i] != ',':\n",
    "            con.append(price[i])\n",
    "    print(\"Product:\",title)\n",
    "    converted = int(\"\".join(con))\n",
    "    print('Price:',converted)\n",
    "    \n",
    "    if( converted > 60000):\n",
    "        send_mail()\n",
    "        \n",
    "def send_mail():\n",
    "    server = smtplib.SMTP('smtp.gmail.com',587)\n",
    "    server.ehlo()\n",
    "    server.starttls()\n",
    "    server.ehlo()\n",
    "    \n",
    "    server.login('Enter mail address','Enter generated password')\n",
    "    \n",
    "    subject = \"Hey Price Is Low\"\n",
    "    body= \"Check out the link: https://www.flipkart.com/apple-iphone-x-space-gray-64-gb/p/itmexrgv6hctyrav?pid=MOBEXRGVCMGVCGGQ&srno=s_1_1&otracker=AS_QueryStore_HistoryAutoSuggest_0_2&otracker1=AS_QueryStore_HistoryAutoSuggest_0_2&lid=LSTMOBEXRGVCMGVCGGQFLD1LA&fm=SEARCH&iid=a672f0df-9707-4cd4-b037-12d308fd0ed4.MOBEXRGVCMGVCGGQ.SEARCH&ppt=sp&ppn=sp&ssid=hsfeqfeeao0000001565720310660&qH=0b3f45b266a97d70\"\n",
    "    \n",
    "    msg = f\"Subject: {subject}\\n\\n{body}\"\n",
    "    server.sendmail(\n",
    "        'sender Email id',\n",
    "        'receiver Email id',\n",
    "        msg\n",
    "    )\n",
    "    print('Hey Email has been sent!')\n",
    "    \n",
    "    server.quit()"
   ]
  },
  {
   "cell_type": "code",
   "execution_count": 4,
   "metadata": {},
   "outputs": [
    {
     "name": "stdout",
     "output_type": "stream",
     "text": [
      "Product: Apple iPhone X (Space Gray, 64 GB)\n",
      "Price: 69999\n",
      "Hey Email has been sent!\n"
     ]
    }
   ],
   "source": [
    "check_price()"
   ]
  },
  {
   "cell_type": "code",
   "execution_count": 82,
   "metadata": {},
   "outputs": [],
   "source": []
  },
  {
   "cell_type": "code",
   "execution_count": null,
   "metadata": {},
   "outputs": [],
   "source": []
  }
 ],
 "metadata": {
  "kernelspec": {
   "display_name": "Python 3",
   "language": "python",
   "name": "python3"
  },
  "language_info": {
   "codemirror_mode": {
    "name": "ipython",
    "version": 3
   },
   "file_extension": ".py",
   "mimetype": "text/x-python",
   "name": "python",
   "nbconvert_exporter": "python",
   "pygments_lexer": "ipython3",
   "version": "3.6.5"
  }
 },
 "nbformat": 4,
 "nbformat_minor": 2
}
